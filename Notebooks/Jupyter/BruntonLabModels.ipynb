{
 "cells": [
  {
   "cell_type": "code",
   "execution_count": 1,
   "metadata": {},
   "outputs": [],
   "source": [
    "import numpy as np\n",
    "from scipy.integrate import solve_ivp\n",
    "import sklearn as skl\n",
    "\n",
    "# from pysindy.utils import linear_damped_SHO\n",
    "# from pysindy.utils import cubic_damped_SHO\n",
    "# from pysindy.utils import linear_3D\n",
    "# from pysindy.utils import hopf\n",
    "# from pysindy.utils import lorenz\n",
    "\n",
    "import pysindy as ps\n",
    "\n",
    "# ignore user warnings\n",
    "import warnings\n",
    "warnings.filterwarnings(\"ignore\", category=UserWarning)\n",
    "\n",
    "np.random.seed(1000)  # Seed for reproducibility\n",
    "\n",
    "# Integrator keywords for solve_ivp\n",
    "integrator_keywords = {\n",
    "    'rtol': 1e-12,\n",
    "    'method': 'LSODA',\n",
    "    'atol': 1e-12,\n",
    "}"
   ]
  },
  {
   "attachments": {},
   "cell_type": "markdown",
   "metadata": {},
   "source": [
    "# Brunton Lab Models\n",
    "\n",
    "Models used by the Brunton lab to verify their SINDY Algorithm"
   ]
  },
  {
   "cell_type": "code",
   "execution_count": 2,
   "metadata": {},
   "outputs": [
    {
     "data": {
      "text/plain": [
       "'1.0.2'"
      ]
     },
     "execution_count": 2,
     "metadata": {},
     "output_type": "execute_result"
    }
   ],
   "source": [
    "skl.__version__"
   ]
  },
  {
   "cell_type": "markdown",
   "metadata": {},
   "source": []
  }
 ],
 "metadata": {
  "kernelspec": {
   "display_name": "graphinf_venv",
   "language": "python",
   "name": "python3"
  },
  "language_info": {
   "codemirror_mode": {
    "name": "ipython",
    "version": 3
   },
   "file_extension": ".py",
   "mimetype": "text/x-python",
   "name": "python",
   "nbconvert_exporter": "python",
   "pygments_lexer": "ipython3",
   "version": "3.9.6"
  },
  "orig_nbformat": 4
 },
 "nbformat": 4,
 "nbformat_minor": 2
}
